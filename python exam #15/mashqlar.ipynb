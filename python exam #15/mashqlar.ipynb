{
 "cells": [
  {
   "attachments": {},
   "cell_type": "markdown",
   "metadata": {},
   "source": [
    "## **UYGA VAZIFA**"
   ]
  },
  {
   "attachments": {},
   "cell_type": "markdown",
   "metadata": {},
   "source": [
    "1. ZeroDivisionError xatolikni hosil qiling!"
   ]
  },
  {
   "cell_type": "code",
   "execution_count": null,
   "metadata": {},
   "outputs": [],
   "source": [
    "try:\n",
    "    print(342/0)\n",
    "except ZeroDivisionError as exception:\n",
    "    print(\"ZeroDivisionError\")"
   ]
  },
  {
   "attachments": {},
   "cell_type": "markdown",
   "metadata": {},
   "source": [
    "2. `daraja` modulini (kutubxonasi)  hosil qiling.\n",
    "\n",
    "```python\n",
    "daraja.ikki(5) # 25\n",
    "```\n",
    "\n",
    "```python\n",
    "daraja.uch(2) # 8\n",
    "```\n",
    "\n",
    "```python\n",
    "daraja.besh(2) # 32\n",
    "```"
   ]
  },
  {
   "cell_type": "markdown",
   "metadata": {},
   "source": []
  },
  {
   "attachments": {},
   "cell_type": "markdown",
   "metadata": {},
   "source": [
    "3. Interpretator va Kompilyatorning farqi nimada?"
   ]
  },
  {
   "attachments": {},
   "cell_type": "markdown",
   "metadata": {},
   "source": [
    "interpretator qatorma - qator kodni mashina tiliag o`zgartiradi.\n",
    "Kompilyator butun kodni mashina tiliga o`tkazib keyin ishlatadi"
   ]
  },
  {
   "attachments": {},
   "cell_type": "markdown",
   "metadata": {},
   "source": [
    "4. High Level va Low Level tillarning farqi nimada?"
   ]
  },
  {
   "attachments": {},
   "cell_type": "markdown",
   "metadata": {},
   "source": [
    "high level kompyuter tilidan uzoqroqda bo`ladi.\n",
    "low level kompyuter tiliga yaqin bo`ladi. va tezligi high levelga qaraganda tez bo`ladi"
   ]
  },
  {
   "attachments": {},
   "cell_type": "markdown",
   "metadata": {},
   "source": [
    "5. ValueError xatoligini hosil qiling!"
   ]
  },
  {
   "cell_type": "code",
   "execution_count": null,
   "metadata": {},
   "outputs": [],
   "source": [
    "try:\n",
    "    print(int(\"afdksfsf\"))\n",
    "except ValueError as e:\n",
    "    print(\"ValueError\")"
   ]
  },
  {
   "attachments": {},
   "cell_type": "markdown",
   "metadata": {},
   "source": [
    "6. `input.txt` faylidan bitta sonni o'qib olsin va agar olingan son `toq son` bo'lsa, `output.txt` fayliga `toq` degan yozuvni, agar `juft son` bo'lsa, `output.txt` fayliga  `juft` degan yozuvni tushirsin!"
   ]
  },
  {
   "cell_type": "code",
   "execution_count": null,
   "metadata": {},
   "outputs": [],
   "source": [
    "file = open(\"input6.txt\", \"w+\")\n",
    "file.write(input())\n",
    "file.close()\n",
    "file = open(\"input6.txt\", \"r\")\n",
    "num = int(file.read())\n",
    "file.close()\n",
    "\n",
    "file = open(\"output6.txt\", \"w+\")\n",
    "\n",
    "\n",
    "if num % 2==0:\n",
    "    file.write(\"Juft\")\n",
    "else:\n",
    "    file.write(\"Toq\")\n",
    "\n",
    "file.close()"
   ]
  },
  {
   "attachments": {},
   "cell_type": "markdown",
   "metadata": {},
   "source": [
    "7. Pythondagi barcha ma'lumot turlariga (integer, float, string, complex, list, dict, tuple, set, boolean) 5 tadan misol yozib chiqing!\n",
    "\n",
    "\n",
    "```python\n",
    "# integer\n",
    "\n",
    "# 1\n",
    "a = 5\n",
    "b = 10\n",
    "c = a + b\n",
    "\n",
    "# 2\n",
    "c = 25 + 5\n",
    "d = 25 - 5\n",
    "print(c / d)\n",
    "\n",
    "#va hokazo!\n",
    "```"
   ]
  },
  {
   "cell_type": "code",
   "execution_count": null,
   "metadata": {},
   "outputs": [],
   "source": [
    "#integers\n",
    "int1 = 1\n",
    "int2 = 2\n",
    "int3 = 3\n",
    "int4 = 4\n",
    "int5 = 5\n",
    "\n",
    "#floats\n",
    "float1 = 1.751521\n",
    "float2 = 1.7\n",
    "float3 = 4554354.45\n",
    "float4 = 2145.1\n",
    "float5 = 1.1\n",
    "\n",
    "# strings\n",
    "str1 = \"salom\"\n",
    "str2 = \"Jasur\"\n",
    "str3 = \"Murzayev\"\n",
    "str4 = \"Javokhir\"\n",
    "str5 = \"xayr\"\n",
    "\n",
    "#lists\n",
    "\n",
    "list1 = [i for i in range(12)]\n",
    "list2 = [\"wefrefge\",12.455,455445,\"dsfsdfsdfdsgfrtgdsd\"]\n",
    "list3 = [\"dsfsfsdgsdfgffd\",1232142]\n",
    "list4 = [\"asdfdsfs\",\"sdfdsfdsfds\"]\n",
    "list5 = [1,2,3,43,3,43,4,43,43,4,3,43]\n",
    "\n",
    "# dicts\n",
    "\n",
    "dict1 = {\n",
    "    \"key1\" : 123,\n",
    "    \"key1\" : 123,\n",
    "    \"key1\" : 123,\n",
    "    \"key1\" : 123\n",
    "}\n",
    "\n",
    "# tuple\n",
    "tup1 = (1 ,2 ,3 ,4)\n",
    "tup2 = (1)\n",
    "tup3 = (\"afdf\", \"dsfsdfsd\", \"dsfsdf\")\n",
    "tup4 = (1 ,2 ,3 ,4)\n",
    "\n",
    "# \n",
    "bool1 = True\n",
    "bool2 = False"
   ]
  },
  {
   "attachments": {},
   "cell_type": "markdown",
   "metadata": {},
   "source": [
    "8. Kiritilgan parol 8 xonadan iboratligini va ichida 3 ta raqam qatnashganligini aniqlovchi funksiya hosil qiling! Qiymat boolean da qaytsin!\n",
    "\n",
    "```python\n",
    "def passcheck(password):\n",
    "    ......\n",
    "\n",
    "\n",
    "passcheck(\"abcd1234\") # True\n",
    "passcheck(\"abcdefgh\") # False\n",
    "```"
   ]
  },
  {
   "cell_type": "code",
   "execution_count": null,
   "metadata": {},
   "outputs": [],
   "source": [
    "def passcheck(passw):\n",
    "    k =0\n",
    "    for i in passw:\n",
    "        if i.isdigit():\n",
    "            k+=1\n",
    "    if k > 2: return True\n",
    "    else: return False\n",
    "\n",
    "passw = input()\n",
    "print(passcheck(passw))"
   ]
  },
  {
   "attachments": {},
   "cell_type": "markdown",
   "metadata": {},
   "source": [
    "9. Haqiqiy email kiritilganligini tekshiruvchi tsikl yarating (for yoki whiledan foydalanib!). Agar Email haqiqiy bo'lmasa, tsikl qayta-qayta ishlasin! Agar to'g'ri kiritilgan bo'lsa, Tsikl to'xtasin!"
   ]
  },
  {
   "cell_type": "code",
   "execution_count": null,
   "metadata": {},
   "outputs": [],
   "source": [
    "while True:\n",
    "    email = input()\n",
    "    if '@' in email and '.com' in email:\n",
    "        break"
   ]
  },
  {
   "attachments": {},
   "cell_type": "markdown",
   "metadata": {},
   "source": [
    "10. Pythondagi eng mashhur kutubxonalardan 20 tasiga misol keltiring!"
   ]
  },
  {
   "attachments": {},
   "cell_type": "markdown",
   "metadata": {},
   "source": [
    "eel\n",
    "math\n",
    "time\n",
    "os\n",
    "pywebview\n",
    "\n"
   ]
  }
 ],
 "metadata": {
  "language_info": {
   "name": "python"
  },
  "orig_nbformat": 4
 },
 "nbformat": 4,
 "nbformat_minor": 2
}
